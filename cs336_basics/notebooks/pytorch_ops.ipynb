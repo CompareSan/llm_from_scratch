{
 "cells": [
  {
   "cell_type": "code",
   "execution_count": 1,
   "id": "870fbf08",
   "metadata": {},
   "outputs": [],
   "source": [
    "import torch"
   ]
  },
  {
   "cell_type": "code",
   "execution_count": 2,
   "id": "5d6ed6b4",
   "metadata": {},
   "outputs": [],
   "source": [
    "x = torch.randn((2,3,4))"
   ]
  },
  {
   "cell_type": "code",
   "execution_count": 3,
   "id": "d45f7d35",
   "metadata": {},
   "outputs": [
    {
     "data": {
      "text/plain": [
       "torch.Size([2, 3, 4])"
      ]
     },
     "execution_count": 3,
     "metadata": {},
     "output_type": "execute_result"
    }
   ],
   "source": [
    "x.shape"
   ]
  },
  {
   "cell_type": "code",
   "execution_count": 8,
   "id": "280f386c",
   "metadata": {},
   "outputs": [
    {
     "data": {
      "text/plain": [
       "tensor([[[-0.0340, -1.6216,  1.8247, -0.0461],\n",
       "         [ 0.3277,  1.1541,  0.1000, -0.7303],\n",
       "         [-1.2196,  1.2407,  0.8018,  0.0052]],\n",
       "\n",
       "        [[-0.2023, -1.7310,  0.3731, -0.9301],\n",
       "         [ 0.2443,  1.0060, -0.4614,  0.7006],\n",
       "         [ 0.4452, -0.2359,  1.4386, -1.8760]]])"
      ]
     },
     "execution_count": 8,
     "metadata": {},
     "output_type": "execute_result"
    }
   ],
   "source": [
    "x"
   ]
  },
  {
   "cell_type": "code",
   "execution_count": 15,
   "id": "266cdae2",
   "metadata": {},
   "outputs": [],
   "source": [
    "max_x = torch.max(x, dim=2, keepdim=True).values"
   ]
  },
  {
   "cell_type": "code",
   "execution_count": 17,
   "id": "9ae8ae0e",
   "metadata": {},
   "outputs": [
    {
     "data": {
      "text/plain": [
       "torch.Size([2, 3, 1])"
      ]
     },
     "execution_count": 17,
     "metadata": {},
     "output_type": "execute_result"
    }
   ],
   "source": [
    "max_x.shape"
   ]
  },
  {
   "cell_type": "code",
   "execution_count": 19,
   "id": "c34c59f4",
   "metadata": {},
   "outputs": [],
   "source": [
    "x = x - max_x"
   ]
  },
  {
   "cell_type": "code",
   "execution_count": 22,
   "id": "66bf7ed1",
   "metadata": {},
   "outputs": [
    {
     "data": {
      "text/plain": [
       "torch.Size([2, 3, 4])"
      ]
     },
     "execution_count": 22,
     "metadata": {},
     "output_type": "execute_result"
    }
   ],
   "source": [
    "torch.exp(x).shape"
   ]
  },
  {
   "cell_type": "code",
   "execution_count": 23,
   "id": "71280ec6",
   "metadata": {},
   "outputs": [
    {
     "data": {
      "text/plain": [
       "tensor([[[1.3417],\n",
       "         [1.9381],\n",
       "         [2.0208]],\n",
       "\n",
       "        [[1.9561],\n",
       "         [2.4342],\n",
       "         [1.5941]]])"
      ]
     },
     "execution_count": 23,
     "metadata": {},
     "output_type": "execute_result"
    }
   ],
   "source": [
    "torch.sum(torch.exp(x), dim=2, keepdim=True)"
   ]
  },
  {
   "cell_type": "code",
   "execution_count": 24,
   "id": "f9237ba1",
   "metadata": {},
   "outputs": [],
   "source": [
    "softmax_x = torch.exp(x) / torch.sum(torch.exp(x), dim=2, keepdim=True)"
   ]
  },
  {
   "cell_type": "code",
   "execution_count": 25,
   "id": "c1ad332d",
   "metadata": {},
   "outputs": [
    {
     "data": {
      "text/plain": [
       "tensor([[[0.1162, 0.0237, 0.7453, 0.1148],\n",
       "         [0.2258, 0.5160, 0.1798, 0.0784],\n",
       "         [0.0423, 0.4948, 0.3190, 0.1438]],\n",
       "\n",
       "        [[0.2875, 0.0623, 0.5112, 0.1389],\n",
       "         [0.1918, 0.4108, 0.0947, 0.3027],\n",
       "         [0.2323, 0.1176, 0.6273, 0.0228]]])"
      ]
     },
     "execution_count": 25,
     "metadata": {},
     "output_type": "execute_result"
    }
   ],
   "source": [
    "softmax_x"
   ]
  },
  {
   "cell_type": "code",
   "execution_count": 26,
   "id": "7ed10b7a",
   "metadata": {},
   "outputs": [
    {
     "data": {
      "text/plain": [
       "tensor([[1.0000, 1.0000, 1.0000],\n",
       "        [1.0000, 1.0000, 1.0000]])"
      ]
     },
     "execution_count": 26,
     "metadata": {},
     "output_type": "execute_result"
    }
   ],
   "source": [
    "torch.sum(softmax_x, dim=-1)"
   ]
  },
  {
   "cell_type": "code",
   "execution_count": null,
   "id": "cdbbf913",
   "metadata": {},
   "outputs": [],
   "source": []
  }
 ],
 "metadata": {
  "kernelspec": {
   "display_name": "cs336-basics",
   "language": "python",
   "name": "python3"
  },
  "language_info": {
   "codemirror_mode": {
    "name": "ipython",
    "version": 3
   },
   "file_extension": ".py",
   "mimetype": "text/x-python",
   "name": "python",
   "nbconvert_exporter": "python",
   "pygments_lexer": "ipython3",
   "version": "3.12.0"
  }
 },
 "nbformat": 4,
 "nbformat_minor": 5
}
